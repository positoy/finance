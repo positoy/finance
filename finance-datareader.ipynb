{
 "cells": [
  {
   "cell_type": "code",
   "execution_count": null,
   "metadata": {},
   "outputs": [],
   "source": [
    "import FinanceDataReader as fdr\n",
    "\n",
    "fdr.StockListing('KRX').head()"
   ]
  },
  {
   "cell_type": "code",
   "execution_count": null,
   "metadata": {},
   "outputs": [],
   "source": [
    "krx = fdr.StockListing('KRX')\n",
    "krx['Name']=='현대차'"
   ]
  },
  {
   "cell_type": "code",
   "execution_count": null,
   "metadata": {},
   "outputs": [],
   "source": [
    "krx[krx['Name']=='현대차']"
   ]
  },
  {
   "cell_type": "code",
   "execution_count": null,
   "metadata": {},
   "outputs": [],
   "source": [
    "# 종목코드확인\n",
    "code = krx[krx['Name']=='현대차']['Code']\n",
    "code"
   ]
  },
  {
   "cell_type": "code",
   "execution_count": null,
   "metadata": {},
   "outputs": [],
   "source": [
    "# 종목조회\n",
    "fdr.DataReader(code).head()"
   ]
  },
  {
   "cell_type": "code",
   "execution_count": null,
   "metadata": {},
   "outputs": [],
   "source": [
    "# 특정기간 시황\n",
    "fdr.DataReader(code, '2024-02-01', '2024-02-20')"
   ]
  },
  {
   "cell_type": "code",
   "execution_count": null,
   "metadata": {},
   "outputs": [],
   "source": [
    "# 컬럼명 교체\n",
    "tb = fdr.DataReader(code, '2024-02-01', '2024-02-20').rename(columns={\n",
    "    'Open':'시가',\n",
    "    'Close':'종가',\n",
    "    'Low':'저가',\n",
    "    'High':'고가',\n",
    "    'Volume':'거래량',\n",
    "    'Change':'변동'\n",
    "})\n",
    "tb"
   ]
  },
  {
   "cell_type": "code",
   "execution_count": null,
   "metadata": {},
   "outputs": [],
   "source": [
    "# 숫자형식\n",
    "tb['시가'] = tb['시가'].apply(lambda x:f'{x:,}원')\n",
    "tb['종가'] = tb['종가'].apply(lambda x:f'{x:,}원')\n",
    "tb['저가'] = tb['저가'].apply(lambda x:f'{x:,}원')\n",
    "tb['고가'] = tb['고가'].apply(lambda x:f'{x:,}원')\n",
    "tb['거래량'] = tb['거래량'].apply(lambda x:f'{x:,}건')\n",
    "tb['변동'] = tb['변동'].apply(lambda x:f'{x:.2%}')\n",
    "tb"
   ]
  },
  {
   "cell_type": "code",
   "execution_count": null,
   "metadata": {},
   "outputs": [],
   "source": [
    "# csv저장\n",
    "tb.to_csv('hyundai.csv')"
   ]
  },
  {
   "cell_type": "code",
   "execution_count": null,
   "metadata": {},
   "outputs": [],
   "source": [
    "# 미국시장 조회하기\n",
    "snp = fdr.StockListing('S&P500')\n",
    "len(snp)"
   ]
  },
  {
   "cell_type": "code",
   "execution_count": null,
   "metadata": {},
   "outputs": [],
   "source": [
    "# 애플주식 기간조회\n",
    "fdr.DataReader('AAPL','2024-02-01','2024-02-20')"
   ]
  },
  {
   "cell_type": "code",
   "execution_count": null,
   "metadata": {},
   "outputs": [],
   "source": [
    "# 코스피\n",
    "fdr.DataReader('KS11','2023').head()\n",
    "\n",
    "# 환율\n",
    "fdr.DataReader('USD/KRW','2024-02-20')\n",
    "\n",
    "# 비트코인\n",
    "fdr.DataReader('BTC/KRW', '2024-02-20')"
   ]
  },
  {
   "cell_type": "code",
   "execution_count": null,
   "metadata": {},
   "outputs": [],
   "source": [
    "import matplotlib.pyplot as plt\n",
    "\n",
    "\n",
    "plt.rcParams[\"font.family\"] = 'Menlo'\n",
    "plt.rcParams[\"figure.figsize\"] = (14,4)\n",
    "plt.rcParams['lines.linewidth'] = 2\n",
    "plt.rcParams[\"axes.grid\"] = True\n",
    "\n",
    "# plot\n",
    "fdr.DataReader('KOSPI','2020-01-01')['Close'].plot()"
   ]
  },
  {
   "cell_type": "code",
   "execution_count": null,
   "metadata": {},
   "outputs": [],
   "source": [
    "# 비트코인\n",
    "fdr.DataReader('BTC/KRW','2017')['Close'].plot()"
   ]
  }
 ],
 "metadata": {
  "kernelspec": {
   "display_name": ".env",
   "language": "python",
   "name": "python3"
  },
  "language_info": {
   "codemirror_mode": {
    "name": "ipython",
    "version": 3
   },
   "file_extension": ".py",
   "mimetype": "text/x-python",
   "name": "python",
   "nbconvert_exporter": "python",
   "pygments_lexer": "ipython3",
   "version": "3.12.1"
  }
 },
 "nbformat": 4,
 "nbformat_minor": 2
}
