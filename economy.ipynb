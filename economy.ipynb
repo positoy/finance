{
 "cells": [
  {
   "cell_type": "code",
   "execution_count": null,
   "metadata": {},
   "outputs": [],
   "source": [
    "import FinanceDataReader as fdr\n",
    "\n",
    "# 나스닥\n",
    "ax = fdr.DataReader('FRED:NASDAQCOM', '2023').plot()\n",
    "ax = ax.axvspan('2024-01-01', '2024-02-10', color='orange', alpha=0.2)\n"
   ]
  },
  {
   "cell_type": "code",
   "execution_count": null,
   "metadata": {},
   "outputs": [],
   "source": [
    "# S&P500\n",
    "fdr.DataReader('FRED:SP500','2023').plot()"
   ]
  },
  {
   "cell_type": "code",
   "execution_count": null,
   "metadata": {},
   "outputs": [],
   "source": [
    "# 러셀2000\n",
    "fdr.DataReader('FRED:RVXCLS','2023').plot()"
   ]
  },
  {
   "cell_type": "code",
   "execution_count": null,
   "metadata": {},
   "outputs": [],
   "source": [
    "# 나스닥+주간실업수당청구건수 (ICSA)\n",
    "fdr.DataReader('FRED:NASDAQCOM,ICSA', start='2020').tail().plot(secondary_y='NASDAQCOM')"
   ]
  },
  {
   "cell_type": "code",
   "execution_count": null,
   "metadata": {},
   "outputs": [],
   "source": [
    "# 2008년 금융위기 나스닥지수(NASDAQCOM)와 주간 실업수당 청구 건수(ICSA)\n",
    "\n",
    "df = fdr.DataReader('FRED:NASDAQCOM,ICSA', start='2006', end='2010')\n",
    "ax = df.plot(secondary_y='NASDAQCOM')\n",
    "ax = ax.axvspan('2007-12-01', '2009-03-30', color='gray', alpha=0.2)"
   ]
  }
 ],
 "metadata": {
  "kernelspec": {
   "display_name": ".env",
   "language": "python",
   "name": "python3"
  },
  "language_info": {
   "codemirror_mode": {
    "name": "ipython",
    "version": 3
   },
   "file_extension": ".py",
   "mimetype": "text/x-python",
   "name": "python",
   "nbconvert_exporter": "python",
   "pygments_lexer": "ipython3",
   "version": "3.12.1"
  }
 },
 "nbformat": 4,
 "nbformat_minor": 2
}
